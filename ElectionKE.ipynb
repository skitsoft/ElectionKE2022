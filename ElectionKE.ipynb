{
 "cells": [
  {
   "cell_type": "markdown",
   "id": "52205bc5-dd48-4590-9c43-15082e0d8ecb",
   "metadata": {
    "tags": []
   },
   "source": [
    "# Kenya Elections 2022 "
   ]
  },
  {
   "cell_type": "markdown",
   "id": "7d44f2a3-5ad3-4e24-a225-f1acd0c6f194",
   "metadata": {
    "tags": []
   },
   "source": [
    "## Packages \n",
    "These are required libraries for this project"
   ]
  },
  {
   "cell_type": "code",
   "execution_count": 5,
   "id": "4b67035b-4af0-4b41-9bf2-16fe22b00ffa",
   "metadata": {
    "jupyter": {
     "source_hidden": true
    },
    "tags": []
   },
   "outputs": [],
   "source": [
    "\n",
    "try:\n",
    "    import random\n",
    "    import datetime\n",
    "    import logging\n",
    "    import json\n",
    "    import csv\n",
    "    import requests\n",
    "    import certifi\n",
    "    import pandas as pd\n",
    "    import urllib3\n",
    "    import numpy as np\n",
    "    import os.path\n",
    "    from json_extract import GetValue2\n",
    "    import matplotlib.pyplot as plt\n",
    "    import matplotlib.dates as mdates\n",
    "    import seaborn as sns\n",
    "    import pytz \n",
    "    from datetime import datetime\n",
    "    import dataframe_image as dfi\n",
    "    from functools import reduce\n",
    "    %matplotlib inline\n",
    "    sns.set(rc={'figure.figsize':(10, 5)})\n",
    "    \n",
    "    \n",
    "    \n",
    "except Exception as error:\n",
    "        # Output expected ImportErrors.\n",
    "        logging.error('Error at %s', exc_info=error)"
   ]
  },
  {
   "cell_type": "markdown",
   "id": "e7a467a5-771d-4a01-8e62-889262e1b136",
   "metadata": {
    "tags": []
   },
   "source": [
    "## Data Source \n",
    "This data for form 34 B from various sources listed online \n",
    "1. [Mwango Capital](https://docs.google.com/spreadsheets/d/1yqi02EUCweAXdo-yu_Cn_bV_kzjZqiQx3SWPk7yZPjg/edit#gid=0)\n",
    "2. [Dennis itumbi](https://docs.google.com/spreadsheets/d/1KDobzQC4QIK_QsT0FY-JcpJoW_oLloL_vPoK7MkBVKI/htmlview?usp=sharing&pru=AAABgrss9EY*EdecRBorziEF3hT8tKITIA)\n",
    "3. [Dr Ahmed Kalebi](https://docs.google.com/spreadsheets/u/1/d/1H0sHDWx3fbtt4x4PxoW8-YLD7w5FYx5sUIfGMGnt-L8/htmlview#gid=0)"
   ]
  },
  {
   "cell_type": "code",
   "execution_count": null,
   "id": "00047f22-55be-4652-b39b-f5fb704fd778",
   "metadata": {},
   "outputs": [],
   "source": []
  },
  {
   "cell_type": "code",
   "execution_count": 6,
   "id": "c2594e30-9869-4ddf-8ef4-76d618fb4e99",
   "metadata": {},
   "outputs": [],
   "source": [
    "filename_mwango = \"mwangodata.csv\"\n",
    "filename_dennis = \"dennisdata.csv\"\n",
    "filename_ahmed = \"ahmeddata.csv\"\n",
    "\n",
    "# create three data frames to read into these files\n",
    "df_mwango = pd.read_csv(filename_mwango)\n",
    "df_dennis = pd.read_csv(filename_dennis)\n",
    "df_ahmed = pd.read_csv(filename_ahmed)"
   ]
  },
  {
   "cell_type": "code",
   "execution_count": 7,
   "id": "4863b48e-702f-43f8-a66b-28b26a1513b2",
   "metadata": {},
   "outputs": [
    {
     "data": {
      "text/html": [
       "<div>\n",
       "<style scoped>\n",
       "    .dataframe tbody tr th:only-of-type {\n",
       "        vertical-align: middle;\n",
       "    }\n",
       "\n",
       "    .dataframe tbody tr th {\n",
       "        vertical-align: top;\n",
       "    }\n",
       "\n",
       "    .dataframe thead th {\n",
       "        text-align: right;\n",
       "    }\n",
       "</style>\n",
       "<table border=\"1\" class=\"dataframe\">\n",
       "  <thead>\n",
       "    <tr style=\"text-align: right;\">\n",
       "      <th></th>\n",
       "      <th>County</th>\n",
       "      <th>Constituency</th>\n",
       "      <th>Code</th>\n",
       "      <th>RegisteredVoters</th>\n",
       "      <th>Raila</th>\n",
       "      <th>Ruto</th>\n",
       "      <th>Mwaure</th>\n",
       "      <th>Wajackoyah</th>\n",
       "    </tr>\n",
       "  </thead>\n",
       "  <tbody>\n",
       "    <tr>\n",
       "      <th>0</th>\n",
       "      <td>Baringo</td>\n",
       "      <td>Baringo North</td>\n",
       "      <td>158.0</td>\n",
       "      <td>50287.0</td>\n",
       "      <td>923.0</td>\n",
       "      <td>37635.0</td>\n",
       "      <td>16.0</td>\n",
       "      <td>56.0</td>\n",
       "    </tr>\n",
       "    <tr>\n",
       "      <th>1</th>\n",
       "      <td>Baringo</td>\n",
       "      <td>Baringo Central</td>\n",
       "      <td>159.0</td>\n",
       "      <td>45949.0</td>\n",
       "      <td>1656.0</td>\n",
       "      <td>33162.0</td>\n",
       "      <td>26.0</td>\n",
       "      <td>62.0</td>\n",
       "    </tr>\n",
       "    <tr>\n",
       "      <th>2</th>\n",
       "      <td>Baringo</td>\n",
       "      <td>Baringo South</td>\n",
       "      <td>160.0</td>\n",
       "      <td>42791.0</td>\n",
       "      <td>7351.0</td>\n",
       "      <td>25533.0</td>\n",
       "      <td>41.0</td>\n",
       "      <td>90.0</td>\n",
       "    </tr>\n",
       "    <tr>\n",
       "      <th>3</th>\n",
       "      <td>Baringo</td>\n",
       "      <td>Eldama Ravine</td>\n",
       "      <td>162.0</td>\n",
       "      <td>64099.0</td>\n",
       "      <td>5122.0</td>\n",
       "      <td>42118.0</td>\n",
       "      <td>72.0</td>\n",
       "      <td>114.0</td>\n",
       "    </tr>\n",
       "    <tr>\n",
       "      <th>4</th>\n",
       "      <td>Baringo</td>\n",
       "      <td>Mogotio</td>\n",
       "      <td>161.0</td>\n",
       "      <td>38922.0</td>\n",
       "      <td>982.0</td>\n",
       "      <td>30824.0</td>\n",
       "      <td>34.0</td>\n",
       "      <td>49.0</td>\n",
       "    </tr>\n",
       "  </tbody>\n",
       "</table>\n",
       "</div>"
      ],
      "text/plain": [
       "    County     Constituency   Code  RegisteredVoters   Raila     Ruto  Mwaure  \\\n",
       "0  Baringo    Baringo North  158.0           50287.0   923.0  37635.0    16.0   \n",
       "1  Baringo  Baringo Central  159.0           45949.0  1656.0  33162.0    26.0   \n",
       "2  Baringo    Baringo South  160.0           42791.0  7351.0  25533.0    41.0   \n",
       "3  Baringo    Eldama Ravine  162.0           64099.0  5122.0  42118.0    72.0   \n",
       "4  Baringo          Mogotio  161.0           38922.0   982.0  30824.0    34.0   \n",
       "\n",
       "   Wajackoyah  \n",
       "0        56.0  \n",
       "1        62.0  \n",
       "2        90.0  \n",
       "3       114.0  \n",
       "4        49.0  "
      ]
     },
     "execution_count": 7,
     "metadata": {},
     "output_type": "execute_result"
    }
   ],
   "source": [
    "df_mwango.head(5)"
   ]
  },
  {
   "cell_type": "code",
   "execution_count": 8,
   "id": "eec8163a-df67-48d8-9563-5c7e6d862b4a",
   "metadata": {},
   "outputs": [
    {
     "data": {
      "text/html": [
       "<div>\n",
       "<style scoped>\n",
       "    .dataframe tbody tr th:only-of-type {\n",
       "        vertical-align: middle;\n",
       "    }\n",
       "\n",
       "    .dataframe tbody tr th {\n",
       "        vertical-align: top;\n",
       "    }\n",
       "\n",
       "    .dataframe thead th {\n",
       "        text-align: right;\n",
       "    }\n",
       "</style>\n",
       "<table border=\"1\" class=\"dataframe\">\n",
       "  <thead>\n",
       "    <tr style=\"text-align: right;\">\n",
       "      <th></th>\n",
       "      <th>COUNTY</th>\n",
       "      <th>REG_VOTERS</th>\n",
       "      <th>TURNOUT</th>\n",
       "      <th>WSR_VOTES</th>\n",
       "      <th>RAO_VOTES</th>\n",
       "      <th>WAJAKOYAH</th>\n",
       "      <th>MWAURE</th>\n",
       "    </tr>\n",
       "  </thead>\n",
       "  <tbody>\n",
       "    <tr>\n",
       "      <th>0</th>\n",
       "      <td>MOMBASA</td>\n",
       "      <td>641913</td>\n",
       "      <td>276025</td>\n",
       "      <td>113299</td>\n",
       "      <td>160572</td>\n",
       "      <td>1814</td>\n",
       "      <td>466</td>\n",
       "    </tr>\n",
       "    <tr>\n",
       "      <th>1</th>\n",
       "      <td>KWALE</td>\n",
       "      <td>328253</td>\n",
       "      <td>178247</td>\n",
       "      <td>52000</td>\n",
       "      <td>124701</td>\n",
       "      <td>1110</td>\n",
       "      <td>428</td>\n",
       "    </tr>\n",
       "    <tr>\n",
       "      <th>2</th>\n",
       "      <td>KILIFI</td>\n",
       "      <td>588602</td>\n",
       "      <td>284619</td>\n",
       "      <td>77222</td>\n",
       "      <td>203632</td>\n",
       "      <td>2510</td>\n",
       "      <td>1035</td>\n",
       "    </tr>\n",
       "    <tr>\n",
       "      <th>3</th>\n",
       "      <td>TANA RIVER</td>\n",
       "      <td>141096</td>\n",
       "      <td>92405</td>\n",
       "      <td>41203</td>\n",
       "      <td>50626</td>\n",
       "      <td>403</td>\n",
       "      <td>143</td>\n",
       "    </tr>\n",
       "    <tr>\n",
       "      <th>4</th>\n",
       "      <td>LAMU</td>\n",
       "      <td>81453</td>\n",
       "      <td>50094</td>\n",
       "      <td>22635</td>\n",
       "      <td>26117</td>\n",
       "      <td>844</td>\n",
       "      <td>184</td>\n",
       "    </tr>\n",
       "  </tbody>\n",
       "</table>\n",
       "</div>"
      ],
      "text/plain": [
       "       COUNTY  REG_VOTERS  TURNOUT  WSR_VOTES  RAO_VOTES  WAJAKOYAH  MWAURE\n",
       "0     MOMBASA      641913   276025     113299     160572       1814     466\n",
       "1       KWALE      328253   178247      52000     124701       1110     428\n",
       "2      KILIFI      588602   284619      77222     203632       2510    1035\n",
       "3  TANA RIVER      141096    92405      41203      50626        403     143\n",
       "4        LAMU       81453    50094      22635      26117        844     184"
      ]
     },
     "execution_count": 8,
     "metadata": {},
     "output_type": "execute_result"
    }
   ],
   "source": [
    "df_dennis.head(5)"
   ]
  },
  {
   "cell_type": "code",
   "execution_count": 9,
   "id": "20e456d2-cd87-413b-a755-f6994d53eb1b",
   "metadata": {},
   "outputs": [
    {
     "data": {
      "text/html": [
       "<div>\n",
       "<style scoped>\n",
       "    .dataframe tbody tr th:only-of-type {\n",
       "        vertical-align: middle;\n",
       "    }\n",
       "\n",
       "    .dataframe tbody tr th {\n",
       "        vertical-align: top;\n",
       "    }\n",
       "\n",
       "    .dataframe thead th {\n",
       "        text-align: right;\n",
       "    }\n",
       "</style>\n",
       "<table border=\"1\" class=\"dataframe\">\n",
       "  <thead>\n",
       "    <tr style=\"text-align: right;\">\n",
       "      <th></th>\n",
       "      <th>Constituency</th>\n",
       "      <th>Raila</th>\n",
       "      <th>Ruto</th>\n",
       "      <th>Mwaure</th>\n",
       "      <th>Wajackoyah</th>\n",
       "      <th>ValidVotes</th>\n",
       "    </tr>\n",
       "  </thead>\n",
       "  <tbody>\n",
       "    <tr>\n",
       "      <th>0</th>\n",
       "      <td>Webuye West</td>\n",
       "      <td>10876.0</td>\n",
       "      <td>25095.0</td>\n",
       "      <td>179.0</td>\n",
       "      <td>222.0</td>\n",
       "      <td>36372.0</td>\n",
       "    </tr>\n",
       "    <tr>\n",
       "      <th>1</th>\n",
       "      <td>Webuye East</td>\n",
       "      <td>13720.0</td>\n",
       "      <td>16412.0</td>\n",
       "      <td>110.0</td>\n",
       "      <td>249.0</td>\n",
       "      <td>30491.0</td>\n",
       "    </tr>\n",
       "    <tr>\n",
       "      <th>2</th>\n",
       "      <td>Kimilili</td>\n",
       "      <td>14119.0</td>\n",
       "      <td>22954.0</td>\n",
       "      <td>130.0</td>\n",
       "      <td>254.0</td>\n",
       "      <td>37457.0</td>\n",
       "    </tr>\n",
       "    <tr>\n",
       "      <th>3</th>\n",
       "      <td>Tongaren</td>\n",
       "      <td>20890.0</td>\n",
       "      <td>25845.0</td>\n",
       "      <td>315.0</td>\n",
       "      <td>213.0</td>\n",
       "      <td>47263.0</td>\n",
       "    </tr>\n",
       "    <tr>\n",
       "      <th>4</th>\n",
       "      <td>Sirisia</td>\n",
       "      <td>11736.0</td>\n",
       "      <td>16848.0</td>\n",
       "      <td>NaN</td>\n",
       "      <td>NaN</td>\n",
       "      <td>28584.0</td>\n",
       "    </tr>\n",
       "  </tbody>\n",
       "</table>\n",
       "</div>"
      ],
      "text/plain": [
       "  Constituency    Raila     Ruto  Mwaure  Wajackoyah  ValidVotes\n",
       "0  Webuye West  10876.0  25095.0   179.0       222.0     36372.0\n",
       "1  Webuye East  13720.0  16412.0   110.0       249.0     30491.0\n",
       "2     Kimilili  14119.0  22954.0   130.0       254.0     37457.0\n",
       "3     Tongaren  20890.0  25845.0   315.0       213.0     47263.0\n",
       "4      Sirisia  11736.0  16848.0     NaN         NaN     28584.0"
      ]
     },
     "execution_count": 9,
     "metadata": {},
     "output_type": "execute_result"
    }
   ],
   "source": [
    "df_ahmed.head(5)"
   ]
  },
  {
   "cell_type": "code",
   "execution_count": 10,
   "id": "d4535642-9bcc-481f-98bc-384cad5d157f",
   "metadata": {},
   "outputs": [],
   "source": [
    "list_of_dataframes =[df_mwango, df_dennis, df_ahmed]"
   ]
  },
  {
   "cell_type": "markdown",
   "id": "45de961c-c88b-4c44-9e06-f9633cf7db5f",
   "metadata": {},
   "source": [
    "## Data Preprocessing "
   ]
  },
  {
   "cell_type": "markdown",
   "id": "1119e4cb-ec26-4498-889e-d8529f29d554",
   "metadata": {
    "jp-MarkdownHeadingCollapsed": true,
    "tags": []
   },
   "source": [
    "### Check for Datatypes \n",
    "This basically to check whether the data is correct in data types for categorical and numerical data "
   ]
  },
  {
   "cell_type": "code",
   "execution_count": 12,
   "id": "27a287e9-e08d-4ec7-a79f-9cc415202a51",
   "metadata": {},
   "outputs": [
    {
     "name": "stdout",
     "output_type": "stream",
     "text": [
      "<class 'pandas.core.frame.DataFrame'>\n",
      "RangeIndex: 291 entries, 0 to 290\n",
      "Data columns (total 8 columns):\n",
      " #   Column            Non-Null Count  Dtype  \n",
      "---  ------            --------------  -----  \n",
      " 0   County            291 non-null    object \n",
      " 1   Constituency      290 non-null    object \n",
      " 2   Code              290 non-null    float64\n",
      " 3   RegisteredVoters  255 non-null    float64\n",
      " 4   Raila             255 non-null    float64\n",
      " 5   Ruto              255 non-null    float64\n",
      " 6   Mwaure            255 non-null    float64\n",
      " 7   Wajackoyah        255 non-null    float64\n",
      "dtypes: float64(6), object(2)\n",
      "memory usage: 18.3+ KB\n"
     ]
    }
   ],
   "source": [
    "df_mwango.info()\n"
   ]
  },
  {
   "cell_type": "code",
   "execution_count": 13,
   "id": "956ed719-54fb-4650-9f99-8d0f637bfd7d",
   "metadata": {},
   "outputs": [
    {
     "name": "stdout",
     "output_type": "stream",
     "text": [
      "<class 'pandas.core.frame.DataFrame'>\n",
      "RangeIndex: 49 entries, 0 to 48\n",
      "Data columns (total 7 columns):\n",
      " #   Column      Non-Null Count  Dtype \n",
      "---  ------      --------------  ----- \n",
      " 0   COUNTY      49 non-null     object\n",
      " 1   REG_VOTERS  49 non-null     int64 \n",
      " 2   TURNOUT     49 non-null     int64 \n",
      " 3   WSR_VOTES   49 non-null     int64 \n",
      " 4   RAO_VOTES   49 non-null     int64 \n",
      " 5   WAJAKOYAH   49 non-null     int64 \n",
      " 6   MWAURE      49 non-null     int64 \n",
      "dtypes: int64(6), object(1)\n",
      "memory usage: 2.8+ KB\n"
     ]
    }
   ],
   "source": [
    "df_dennis.info()"
   ]
  },
  {
   "cell_type": "code",
   "execution_count": 14,
   "id": "d5aef43b-4722-4e6a-a923-da2da03ead3d",
   "metadata": {},
   "outputs": [
    {
     "name": "stdout",
     "output_type": "stream",
     "text": [
      "<class 'pandas.core.frame.DataFrame'>\n",
      "RangeIndex: 291 entries, 0 to 290\n",
      "Data columns (total 6 columns):\n",
      " #   Column        Non-Null Count  Dtype  \n",
      "---  ------        --------------  -----  \n",
      " 0   Constituency  291 non-null    object \n",
      " 1   Raila         284 non-null    float64\n",
      " 2   Ruto          284 non-null    float64\n",
      " 3   Mwaure        223 non-null    float64\n",
      " 4   Wajackoyah    223 non-null    float64\n",
      " 5   ValidVotes    290 non-null    float64\n",
      "dtypes: float64(5), object(1)\n",
      "memory usage: 13.8+ KB\n"
     ]
    }
   ],
   "source": [
    "df_ahmed.info()"
   ]
  },
  {
   "cell_type": "markdown",
   "id": "99074b08-d173-460b-b029-0f183f69d786",
   "metadata": {},
   "source": [
    "### Check for Missing values in the dataframes \n",
    "The missing values will be replaced with Zero \n",
    "\n"
   ]
  },
  {
   "cell_type": "markdown",
   "id": "2aba8449-306a-4b63-bb11-e810ee0b4d72",
   "metadata": {
    "jp-MarkdownHeadingCollapsed": true,
    "tags": []
   },
   "source": [
    "#### Mwango Dataframe "
   ]
  },
  {
   "cell_type": "code",
   "execution_count": 37,
   "id": "c20f7feb-d7c2-4c07-aa2b-35dec6d285fc",
   "metadata": {},
   "outputs": [
    {
     "name": "stdout",
     "output_type": "stream",
     "text": [
      "Does this dataframe contain missing values True\n",
      "Total missing values 182\n",
      "Does this dataframe contain missing values False\n"
     ]
    }
   ],
   "source": [
    "\n",
    "print(\"Does this dataframe contain missing values \"+str(df_mwango.isnull().values.any()))\n",
    "print( \"Total missing values \" + str(df_mwango.isnull().sum().sum()))\n",
    "# clean replace the missing values with Zero\n",
    "df_mwango.fillna(0, inplace =True)\n",
    "print(\"Does this dataframe contain missing values \"+str(df_mwango.isnull().values.any()))"
   ]
  },
  {
   "cell_type": "markdown",
   "id": "66bffdc6-133e-44d9-8000-79430db37b96",
   "metadata": {
    "jp-MarkdownHeadingCollapsed": true,
    "tags": []
   },
   "source": [
    "#### Dennis Dataframe "
   ]
  },
  {
   "cell_type": "code",
   "execution_count": 39,
   "id": "77cf8e44-402c-4a5c-8667-54d6dc34a993",
   "metadata": {},
   "outputs": [
    {
     "name": "stdout",
     "output_type": "stream",
     "text": [
      "Does this dataframe contain missing values False\n",
      "Total missing values 0\n",
      "Does this dataframe contain missing values False\n"
     ]
    }
   ],
   "source": [
    "print(\"Does this dataframe contain missing values \"+str(df_dennis.isnull().values.any()))\n",
    "print( \"Total missing values \" + str(df_dennis.isnull().sum().sum()))\n",
    "# clean replace the missing values with Zero\n",
    "df_dennis.fillna(0, inplace =True)\n",
    "print(\"Does this dataframe contain missing values \"+str(df_dennis.isnull().values.any()))\n"
   ]
  },
  {
   "cell_type": "markdown",
   "id": "6d4f87a8-2dc6-4c04-a356-cb8921a59b07",
   "metadata": {
    "jp-MarkdownHeadingCollapsed": true,
    "tags": []
   },
   "source": [
    "#### Ahmed Dataframe "
   ]
  },
  {
   "cell_type": "code",
   "execution_count": 40,
   "id": "c35535f8-175d-4912-86f8-7076f02a4b38",
   "metadata": {},
   "outputs": [
    {
     "name": "stdout",
     "output_type": "stream",
     "text": [
      "Does this dataframe contain missing values True\n",
      "Total missing values 151\n",
      "Does this dataframe contain missing values False\n"
     ]
    }
   ],
   "source": [
    "print(\"Does this dataframe contain missing values \"+str(df_ahmed.isnull().values.any()))\n",
    "print( \"Total missing values \" + str(df_ahmed.isnull().sum().sum()))\n",
    "# clean replace the missing values with Zero\n",
    "df_ahmed.fillna(0, inplace =True)\n",
    "print(\"Does this dataframe contain missing values \"+str(df_ahmed.isnull().values.any()))\n",
    "\n"
   ]
  },
  {
   "cell_type": "markdown",
   "id": "737ef569-44ea-43a2-8f9c-f74fc2fe0ded",
   "metadata": {
    "tags": []
   },
   "source": [
    "## Mwango Capital"
   ]
  },
  {
   "cell_type": "code",
   "execution_count": 42,
   "id": "03857dc1-d9d4-4c38-90d5-12f34cd5ee6b",
   "metadata": {
    "collapsed": true,
    "jupyter": {
     "outputs_hidden": true
    },
    "tags": []
   },
   "outputs": [
    {
     "data": {
      "text/html": [
       "<div>\n",
       "<style scoped>\n",
       "    .dataframe tbody tr th:only-of-type {\n",
       "        vertical-align: middle;\n",
       "    }\n",
       "\n",
       "    .dataframe tbody tr th {\n",
       "        vertical-align: top;\n",
       "    }\n",
       "\n",
       "    .dataframe thead th {\n",
       "        text-align: right;\n",
       "    }\n",
       "</style>\n",
       "<table border=\"1\" class=\"dataframe\">\n",
       "  <thead>\n",
       "    <tr style=\"text-align: right;\">\n",
       "      <th></th>\n",
       "      <th>County</th>\n",
       "      <th>Constituency</th>\n",
       "      <th>Code</th>\n",
       "      <th>RegisteredVoters</th>\n",
       "      <th>Raila</th>\n",
       "      <th>Ruto</th>\n",
       "      <th>Mwaure</th>\n",
       "      <th>Wajackoyah</th>\n",
       "    </tr>\n",
       "  </thead>\n",
       "  <tbody>\n",
       "    <tr>\n",
       "      <th>0</th>\n",
       "      <td>Baringo</td>\n",
       "      <td>Baringo North</td>\n",
       "      <td>158.0</td>\n",
       "      <td>50287.0</td>\n",
       "      <td>923.0</td>\n",
       "      <td>37635.0</td>\n",
       "      <td>16.0</td>\n",
       "      <td>56.0</td>\n",
       "    </tr>\n",
       "    <tr>\n",
       "      <th>1</th>\n",
       "      <td>Baringo</td>\n",
       "      <td>Baringo Central</td>\n",
       "      <td>159.0</td>\n",
       "      <td>45949.0</td>\n",
       "      <td>1656.0</td>\n",
       "      <td>33162.0</td>\n",
       "      <td>26.0</td>\n",
       "      <td>62.0</td>\n",
       "    </tr>\n",
       "    <tr>\n",
       "      <th>2</th>\n",
       "      <td>Baringo</td>\n",
       "      <td>Baringo South</td>\n",
       "      <td>160.0</td>\n",
       "      <td>42791.0</td>\n",
       "      <td>7351.0</td>\n",
       "      <td>25533.0</td>\n",
       "      <td>41.0</td>\n",
       "      <td>90.0</td>\n",
       "    </tr>\n",
       "  </tbody>\n",
       "</table>\n",
       "</div>"
      ],
      "text/plain": [
       "    County     Constituency   Code  RegisteredVoters   Raila     Ruto  Mwaure  \\\n",
       "0  Baringo    Baringo North  158.0           50287.0   923.0  37635.0    16.0   \n",
       "1  Baringo  Baringo Central  159.0           45949.0  1656.0  33162.0    26.0   \n",
       "2  Baringo    Baringo South  160.0           42791.0  7351.0  25533.0    41.0   \n",
       "\n",
       "   Wajackoyah  \n",
       "0        56.0  \n",
       "1        62.0  \n",
       "2        90.0  "
      ]
     },
     "execution_count": 42,
     "metadata": {},
     "output_type": "execute_result"
    }
   ],
   "source": [
    "df_mwango.head(3)"
   ]
  },
  {
   "cell_type": "code",
   "execution_count": 67,
   "id": "b32f4126-f968-46ac-bc43-8aa41bf94b95",
   "metadata": {
    "jupyter": {
     "source_hidden": true
    },
    "tags": []
   },
   "outputs": [
    {
     "name": "stdout",
     "output_type": "stream",
     "text": [
      "Raila Total 5812857.0\n",
      "#######################################\n",
      "Ruto Total 6586772.0\n",
      "#######################################\n",
      "Mwaure Total 29295.0\n",
      "#######################################\n",
      "Wajackoyah Total 55124.0\n",
      "#######################################\n",
      "Mwango Total 12484048.0\n",
      "#######################################\n"
     ]
    }
   ],
   "source": [
    "mwango_raila_total =df_mwango[\"Raila\"].sum()\n",
    "print(\"Raila Total \" +str(mwango_raila_total))\n",
    "print(\"#######################################\")\n",
    "mwango_ruto_total =df_mwango[\"Ruto\"].sum()\n",
    "print(\"Ruto Total \" +str(mwango_ruto_total))\n",
    "print(\"#######################################\")\n",
    "mwango_mwaure_total =df_mwango[\"Mwaure\"].sum()\n",
    "print(\"Mwaure Total \" +str(mwango_mwaure_total))\n",
    "print(\"#######################################\")\n",
    "mwango_wajackoyah_total =df_mwango[\"Wajackoyah\"].sum()\n",
    "print(\"Wajackoyah Total \" +str(mwango_wajackoyah_total))\n",
    "print(\"#######################################\")\n",
    "mwango_total = mwango_raila_total + mwango_ruto_total + mwango_mwaure_total + mwango_wajackoyah_total\n",
    "print(\"Mwango Total \" +str(mwango_total))\n",
    "print(\"#######################################\")"
   ]
  },
  {
   "cell_type": "code",
   "execution_count": 54,
   "id": "31c06749-0f29-4b60-85bd-5aa1e8d6a0b2",
   "metadata": {
    "jupyter": {
     "source_hidden": true
    },
    "tags": []
   },
   "outputs": [
    {
     "data": {
      "image/png": "[encoded data removed]",
      "text/plain": [
       "<Figure size 720x360 with 1 Axes>"
      ]
     },
     "metadata": {},
     "output_type": "display_data"
    }
   ],
   "source": [
    "\n",
    "\n",
    "# declaring data\n",
    "data = [ mwango_raila_total, mwango_ruto_total, mwango_mwaure_total, mwango_wajackoyah_total]\n",
    "keys = ['Raila Total', 'Ruto Total', 'Mwaure', 'Wajackoyah' ]\n",
    "\n",
    "# declaring exploding pie\n",
    "explode = [0.1, 0.1, 0.5, 0.5]\n",
    "# define Seaborn color palette to use\n",
    "palette_color = sns.color_palette('dark')\n",
    "\n",
    "# plotting data on chart\n",
    "plt.pie(data, labels=keys, colors=palette_color,\n",
    "\t\texplode=explode, autopct='%.0f%%')\n",
    "\n",
    "# displaying chart\n",
    "plt.show()\n"
   ]
  },
  {
   "cell_type": "markdown",
   "id": "aeb0a6fd-993b-46e3-86d1-02271d9bcef5",
   "metadata": {},
   "source": [
    "## DENNIS ITUMBI"
   ]
  },
  {
   "cell_type": "code",
   "execution_count": 56,
   "id": "9010cace-311d-4fda-99cd-6f2f26f38bbe",
   "metadata": {
    "collapsed": true,
    "jupyter": {
     "outputs_hidden": true
    },
    "tags": []
   },
   "outputs": [
    {
     "data": {
      "text/html": [
       "<div>\n",
       "<style scoped>\n",
       "    .dataframe tbody tr th:only-of-type {\n",
       "        vertical-align: middle;\n",
       "    }\n",
       "\n",
       "    .dataframe tbody tr th {\n",
       "        vertical-align: top;\n",
       "    }\n",
       "\n",
       "    .dataframe thead th {\n",
       "        text-align: right;\n",
       "    }\n",
       "</style>\n",
       "<table border=\"1\" class=\"dataframe\">\n",
       "  <thead>\n",
       "    <tr style=\"text-align: right;\">\n",
       "      <th></th>\n",
       "      <th>COUNTY</th>\n",
       "      <th>REG_VOTERS</th>\n",
       "      <th>TURNOUT</th>\n",
       "      <th>WSR_VOTES</th>\n",
       "      <th>RAO_VOTES</th>\n",
       "      <th>WAJAKOYAH</th>\n",
       "      <th>MWAURE</th>\n",
       "    </tr>\n",
       "  </thead>\n",
       "  <tbody>\n",
       "    <tr>\n",
       "      <th>0</th>\n",
       "      <td>MOMBASA</td>\n",
       "      <td>641913</td>\n",
       "      <td>276025</td>\n",
       "      <td>113299</td>\n",
       "      <td>160572</td>\n",
       "      <td>1814</td>\n",
       "      <td>466</td>\n",
       "    </tr>\n",
       "    <tr>\n",
       "      <th>1</th>\n",
       "      <td>KWALE</td>\n",
       "      <td>328253</td>\n",
       "      <td>178247</td>\n",
       "      <td>52000</td>\n",
       "      <td>124701</td>\n",
       "      <td>1110</td>\n",
       "      <td>428</td>\n",
       "    </tr>\n",
       "    <tr>\n",
       "      <th>2</th>\n",
       "      <td>KILIFI</td>\n",
       "      <td>588602</td>\n",
       "      <td>284619</td>\n",
       "      <td>77222</td>\n",
       "      <td>203632</td>\n",
       "      <td>2510</td>\n",
       "      <td>1035</td>\n",
       "    </tr>\n",
       "  </tbody>\n",
       "</table>\n",
       "</div>"
      ],
      "text/plain": [
       "    COUNTY  REG_VOTERS  TURNOUT  WSR_VOTES  RAO_VOTES  WAJAKOYAH  MWAURE\n",
       "0  MOMBASA      641913   276025     113299     160572       1814     466\n",
       "1    KWALE      328253   178247      52000     124701       1110     428\n",
       "2   KILIFI      588602   284619      77222     203632       2510    1035"
      ]
     },
     "execution_count": 56,
     "metadata": {},
     "output_type": "execute_result"
    }
   ],
   "source": [
    "df_dennis.head(3)"
   ]
  },
  {
   "cell_type": "code",
   "execution_count": 58,
   "id": "c36443ed-5d22-4908-bab9-a0cbe6821ee2",
   "metadata": {
    "jupyter": {
     "source_hidden": true
    },
    "tags": []
   },
   "outputs": [
    {
     "name": "stdout",
     "output_type": "stream",
     "text": [
      "Raila Total 6923259\n",
      "#######################################\n",
      "Ruto Total 7158339\n",
      "#######################################\n",
      "Mwaure Total 31927\n",
      "#######################################\n",
      "Wajackoyah Total 61717\n",
      "#######################################\n",
      "Dennis Total 14175242\n",
      "#######################################\n"
     ]
    }
   ],
   "source": [
    "dennis_raila_total =df_dennis[\"RAO_VOTES\"].sum()\n",
    "print(\"Raila Total \" +str(dennis_raila_total))\n",
    "print(\"#######################################\")\n",
    "dennis_ruto_total =df_dennis[\"WSR_VOTES\"].sum()\n",
    "print(\"Ruto Total \" +str(dennis_ruto_total))\n",
    "print(\"#######################################\")\n",
    "dennis_mwaure_total =df_dennis[\"MWAURE\"].sum()\n",
    "print(\"Mwaure Total \" +str(dennis_mwaure_total))\n",
    "print(\"#######################################\")\n",
    "dennis_wajackoyah_total =df_dennis[\"WAJAKOYAH\"].sum()\n",
    "print(\"Wajackoyah Total \" +str(dennis_wajackoyah_total))\n",
    "print(\"#######################################\")\n",
    "dennis_total = dennis_raila_total + dennis_ruto_total + dennis_mwaure_total + dennis_wajackoyah_total\n",
    "print(\"Dennis Total \" +str(dennis_total))\n",
    "print(\"#######################################\")"
   ]
  },
  {
   "cell_type": "code",
   "execution_count": 59,
   "id": "d8853998-39c3-49d0-9a47-6765f88dc8fc",
   "metadata": {
    "jupyter": {
     "source_hidden": true
    },
    "tags": []
   },
   "outputs": [
    {
     "data": {
      "image/png": "[encoded data removed]",
      "text/plain": [
       "<Figure size 720x360 with 1 Axes>"
      ]
     },
     "metadata": {},
     "output_type": "display_data"
    }
   ],
   "source": [
    "# declaring data\n",
    "data = [ dennis_raila_total, dennis_ruto_total, dennis_mwaure_total, dennis_wajackoyah_total]\n",
    "keys = ['Raila Total', 'Ruto Total', 'Mwaure', 'Wajackoyah' ]\n",
    "\n",
    "# declaring exploding pie\n",
    "explode = [0.1, 0.1, 0.5, 0.5]\n",
    "# define Seaborn color palette to use\n",
    "palette_color = sns.color_palette('dark')\n",
    "\n",
    "# plotting data on chart\n",
    "plt.pie(data, labels=keys, colors=palette_color,\n",
    "\t\texplode=explode, autopct='%.0f%%')\n",
    "\n",
    "# displaying chart\n",
    "plt.show()"
   ]
  },
  {
   "cell_type": "markdown",
   "id": "e38c9622-fcfe-440c-ba34-2ff3363c8b68",
   "metadata": {},
   "source": [
    " ## Dr Ahmed Kalebi"
   ]
  },
  {
   "cell_type": "code",
   "execution_count": 68,
   "id": "7225e2fc-328a-4102-9589-c19daaec01ff",
   "metadata": {
    "collapsed": true,
    "jupyter": {
     "outputs_hidden": true
    },
    "tags": []
   },
   "outputs": [
    {
     "data": {
      "text/html": [
       "<div>\n",
       "<style scoped>\n",
       "    .dataframe tbody tr th:only-of-type {\n",
       "        vertical-align: middle;\n",
       "    }\n",
       "\n",
       "    .dataframe tbody tr th {\n",
       "        vertical-align: top;\n",
       "    }\n",
       "\n",
       "    .dataframe thead th {\n",
       "        text-align: right;\n",
       "    }\n",
       "</style>\n",
       "<table border=\"1\" class=\"dataframe\">\n",
       "  <thead>\n",
       "    <tr style=\"text-align: right;\">\n",
       "      <th></th>\n",
       "      <th>Constituency</th>\n",
       "      <th>Raila</th>\n",
       "      <th>Ruto</th>\n",
       "      <th>Mwaure</th>\n",
       "      <th>Wajackoyah</th>\n",
       "      <th>ValidVotes</th>\n",
       "    </tr>\n",
       "  </thead>\n",
       "  <tbody>\n",
       "    <tr>\n",
       "      <th>0</th>\n",
       "      <td>Webuye West</td>\n",
       "      <td>10876.0</td>\n",
       "      <td>25095.0</td>\n",
       "      <td>179.0</td>\n",
       "      <td>222.0</td>\n",
       "      <td>36372.0</td>\n",
       "    </tr>\n",
       "  </tbody>\n",
       "</table>\n",
       "</div>"
      ],
      "text/plain": [
       "  Constituency    Raila     Ruto  Mwaure  Wajackoyah  ValidVotes\n",
       "0  Webuye West  10876.0  25095.0   179.0       222.0     36372.0"
      ]
     },
     "execution_count": 68,
     "metadata": {},
     "output_type": "execute_result"
    }
   ],
   "source": [
    "df_ahmed.head(1)"
   ]
  },
  {
   "cell_type": "code",
   "execution_count": 66,
   "id": "80238458-316d-4fb1-bacd-892d16d74679",
   "metadata": {
    "jupyter": {
     "source_hidden": true
    },
    "tags": []
   },
   "outputs": [
    {
     "name": "stdout",
     "output_type": "stream",
     "text": [
      "Raila Total 6759682.0\n",
      "#######################################\n",
      "Ruto Total 7046251.0\n",
      "#######################################\n",
      "Mwaure Total 24496.0\n",
      "#######################################\n",
      "Wajackoyah Total 46606.0\n",
      "#######################################\n",
      "Ahmed Total 13877035.0\n",
      "#######################################\n"
     ]
    }
   ],
   "source": [
    "ahmed_raila_total =df_ahmed[\"Raila\"].sum()\n",
    "print(\"Raila Total \" +str(ahmed_raila_total))\n",
    "print(\"#######################################\")\n",
    "ahmed_ruto_total =df_ahmed[\"Ruto\"].sum()\n",
    "print(\"Ruto Total \" +str(ahmed_ruto_total))\n",
    "print(\"#######################################\")\n",
    "ahmed_mwaure_total =df_ahmed[\"Mwaure\"].sum()\n",
    "print(\"Mwaure Total \" +str(ahmed_mwaure_total))\n",
    "print(\"#######################################\")\n",
    "ahmed_wajackoyah_total =df_ahmed[\"Wajackoyah\"].sum()\n",
    "print(\"Wajackoyah Total \" +str(ahmed_wajackoyah_total))\n",
    "print(\"#######################################\")\n",
    "ahmed_total = ahmed_raila_total + ahmed_ruto_total + ahmed_mwaure_total + ahmed_wajackoyah_total\n",
    "print(\"Ahmed Total \" +str(ahmed_total))\n",
    "print(\"#######################################\")"
   ]
  },
  {
   "cell_type": "code",
   "execution_count": 65,
   "id": "08d4b0d3-ea44-4b0d-a2f3-4087b05a6ad5",
   "metadata": {
    "jupyter": {
     "source_hidden": true
    },
    "tags": []
   },
   "outputs": [
    {
     "data": {
      "image/png": "[encoded data removed]",
      "text/plain": [
       "<Figure size 720x360 with 1 Axes>"
      ]
     },
     "metadata": {},
     "output_type": "display_data"
    }
   ],
   "source": [
    "# declaring data\n",
    "data = [  ahmed_raila_total , ahmed_ruto_total , ahmed_mwaure_total , ahmed_wajackoyah_total]\n",
    "keys = ['Raila Total', 'Ruto Total', 'Mwaure', 'Wajackoyah' ]\n",
    "\n",
    "# declaring exploding pie\n",
    "explode = [0.1, 0.1, 0.5, 0.5]\n",
    "# define Seaborn color palette to use\n",
    "palette_color = sns.color_palette('dark')\n",
    "\n",
    "# plotting data on chart\n",
    "plt.pie(data, labels=keys, colors=palette_color,\n",
    "\t\texplode=explode, autopct='%.0f%%')\n",
    "\n",
    "# displaying chart\n",
    "plt.show()"
   ]
  },
  {
   "cell_type": "markdown",
   "id": "507f6314-d6bb-44d6-9836-134534a80f19",
   "metadata": {},
   "source": [
    "# COMPARISON"
   ]
  },
  {
   "cell_type": "code",
   "execution_count": null,
   "id": "5a6fc3dc-e675-4368-9648-5e03fae7d28f",
   "metadata": {},
   "outputs": [],
   "source": []
  }
 ],
 "metadata": {
  "kernelspec": {
   "display_name": "Python 3 (ipykernel)",
   "language": "python",
   "name": "python3"
  },
  "language_info": {
   "codemirror_mode": {
    "name": "ipython",
    "version": 3
   },
   "file_extension": ".py",
   "mimetype": "text/x-python",
   "name": "python",
   "nbconvert_exporter": "python",
   "pygments_lexer": "ipython3",
   "version": "3.10.5"
  },
  "toc-showcode": false,
  "toc-showtags": true
 },
 "nbformat": 4,
 "nbformat_minor": 5
}
